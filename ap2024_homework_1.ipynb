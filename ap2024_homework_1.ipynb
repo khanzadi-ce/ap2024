{
  "nbformat": 4,
  "nbformat_minor": 0,
  "metadata": {
    "colab": {
      "provenance": [],
      "authorship_tag": "ABX9TyPhnXI1pogiFn3afPmQ1V02",
      "include_colab_link": true
    },
    "kernelspec": {
      "name": "python3",
      "display_name": "Python 3"
    },
    "language_info": {
      "name": "python"
    }
  },
  "cells": [
    {
      "cell_type": "markdown",
      "metadata": {
        "id": "view-in-github",
        "colab_type": "text"
      },
      "source": [
        "<a href=\"https://colab.research.google.com/github/khanzadi-ce/ap2024/blob/main/ap2024_homework_1.ipynb\" target=\"_parent\"><img src=\"https://colab.research.google.com/assets/colab-badge.svg\" alt=\"Open In Colab\"/></a>"
      ]
    },
    {
      "cell_type": "markdown",
      "source": [
        "Advanced Programming\n",
        "IAU-NTB, 2024, Khanzadi\n",
        "\n",
        "Homework 1:  Solutions"
      ],
      "metadata": {
        "id": "qmjdbX3CukxG"
      }
    },
    {
      "cell_type": "markdown",
      "source": [
        "Question #1"
      ],
      "metadata": {
        "id": "E9rbAOE9u36s"
      }
    },
    {
      "cell_type": "code",
      "execution_count": 1,
      "metadata": {
        "colab": {
          "base_uri": "https://localhost:8080/"
        },
        "id": "VxN_GuOouS6O",
        "outputId": "280f0322-a61c-4b10-f105-1a43521ebef8"
      },
      "outputs": [
        {
          "output_type": "stream",
          "name": "stdout",
          "text": [
            "Number #1, Please insert a number between 0 and 1: 0.001\n",
            "Float: True\n",
            "Digits Limit: True\n",
            "Entered Inputs: True\n",
            "\n",
            "Number #2, Please insert a number between 0 and 1: 0.5412444\n",
            "Float: True\n",
            "Digits Limit: False\n",
            "Entered Inputs: True\n",
            "\n",
            "Number #2, Please insert a number between 0 and 1: 0.11\n",
            "Float: True\n",
            "Digits Limit: True\n",
            "Entered Inputs: True\n",
            "\n",
            "Number #3, Please insert a number between 0 and 1: 0.923\n",
            "Float: True\n",
            "Digits Limit: True\n",
            "Entered Inputs: True\n",
            "\n",
            "Number #4, Please insert a number between 0 and 1: 22\n",
            "Float: True\n",
            "Digits Limit: False\n",
            "Entered Inputs: True\n",
            "\n",
            "Number #4, Please insert a number between 0 and 1: 0.8\n",
            "Float: True\n",
            "Digits Limit: True\n",
            "Entered Inputs: True\n",
            "\n",
            "Number #5, Please insert a number between 0 and 1: 0.4\n",
            "Float: True\n",
            "Digits Limit: True\n",
            "Entered Inputs: True\n",
            "\n",
            "user input #1: 0.001\n",
            "user input #2: 0.11\n",
            "user input #3: 0.923\n",
            "user input #4: 0.8\n",
            "user input #5: 0.4\n",
            "===============\n",
            "Average: 0.4468\n",
            "Variance: 0.13317576\n"
          ]
        }
      ],
      "source": [
        "# Author: P. Khanzadi\n",
        "\n",
        "# Library\n",
        "import numpy as np\n",
        "\n",
        "# Variables: Global\n",
        "user_inputs_list           = [] # list for user inputs\n",
        "user_inputs_number_maximum = 5 # number of inputs that is valid for a user\n",
        "user_inputs_number_current = 0\n",
        "max_digits                 = 5 # number of digits after float point\n",
        "\n",
        "\n",
        "\n",
        "# Functions\n",
        "def is_float(x):\n",
        "  try:\n",
        "    float(x)\n",
        "    return True\n",
        "  except:\n",
        "    return False\n",
        "\n",
        "def is_number(x,input_number): # x is input value which is entered by the user\n",
        "\n",
        "  try:\n",
        "    x = str(x)\n",
        "    # Conditions: C_*\n",
        "    C_is_x_float             = is_float(x)\n",
        "    C_is_digits_limit        = True if(x[::-1].find('.')>=1 and x[::-1].find('.')<=max_digits) else False\n",
        "    C_is_number_inputs_valid = True if(input_number<=user_inputs_number_maximum) else False\n",
        "\n",
        "    # Print Conditions:\n",
        "    Text_C_1 = \"Float: \"+ str(C_is_x_float)\n",
        "    Text_C_2 = \"Digits Limit: \"+ str(C_is_digits_limit)\n",
        "    Text_C_3 = \"Entered Inputs: \"+ str(C_is_number_inputs_valid)\n",
        "\n",
        "    print(Text_C_1)\n",
        "    print(Text_C_2)\n",
        "    print(Text_C_3)\n",
        "    print('')\n",
        "\n",
        "    if(C_is_x_float and C_is_digits_limit and C_is_number_inputs_valid) == True:\n",
        "      return True\n",
        "    else:\n",
        "      return False\n",
        "  except:\n",
        "    print(\"Failed: Please check the code!\")\n",
        "\n",
        "\n",
        "while True:\n",
        "  user_input = input('Number #' + str(user_inputs_number_current+1) + ', Please insert a number between 0 and 1: ')\n",
        "\n",
        "  # Input validation\n",
        "  is_user_input_valid = is_number(user_input,user_inputs_number_current)\n",
        "  if is_user_input_valid == True:\n",
        "    user_inputs_number_current = user_inputs_number_current + 1\n",
        "    user_inputs_list.append(float(user_input))\n",
        "\n",
        "  # Check condition: 5 inputs by user\n",
        "  if user_inputs_number_current == user_inputs_number_maximum:\n",
        "    break\n",
        "\n",
        "# Print Results:\n",
        "\n",
        "## Print user inputs\n",
        "counter = 1\n",
        "for number in user_inputs_list:\n",
        "  print('user input #'+ str(counter) + ': ' + str(number))\n",
        "  counter = counter + 1\n",
        "\n",
        "print('===============')\n",
        "print('Average: '+str(np.mean(user_inputs_list)))\n",
        "print('Variance: '+str(np.var(user_inputs_list)))"
      ]
    }
  ]
}